{
 "cells": [
  {
   "cell_type": "code",
   "execution_count": 1,
   "metadata": {},
   "outputs": [],
   "source": [
    "import pandas as pd\n",
    "import os\n",
    "import re\n",
    "import numpy as np"
   ]
  },
  {
   "cell_type": "code",
   "execution_count": 2,
   "metadata": {
    "scrolled": true
   },
   "outputs": [
    {
     "name": "stdout",
     "output_type": "stream",
     "text": [
      "4368351.0478\n"
     ]
    }
   ],
   "source": [
    "total_sum = 0 #переменная для вычисления общей суммы\n",
    "value_massive = [] #массив, в котором будут храниться сумма для каждого пользователя по месяцам (фрейм месяц == элементу массива)\n",
    "i = 0 #счетчик файлов\n",
    "value = pd.DataFrame()\n",
    "\n",
    "def bill_count(df): #функция подготовки данных\n",
    "    df.drop(df.columns[df.columns.str.contains('Unnamed')], axis = 1, inplace = True) #удаляем лишний столбец\n",
    "    df['KWT'] = df['KWT'].str.replace('_', '') #убираем лишние артефакты из KWT\n",
    "    df['KWT']=df['KWT'].astype(float)  #преобразовываем строчный формат KWT в число с плавающей точкой\n",
    "    pattern = r'\\w+ (\\d+):\\d+' #паттерн, чтобы найти время\n",
    "    df['HOUR'] = df['TIME'].str.findall(pattern).str[0].astype(int) #добавление новой колонки HOUR, полученной из TIME\n",
    "    df_price = pd.read_excel('Prices.xlsx', header = 1) #загружаем данные по ценам\n",
    "    df_price['HOUR'] = df_price['HOUR'] - 1 \n",
    "    df = pd.merge(df, df_price, on = 'HOUR') #мерджим основную таблицу и таблицу с ценами по столбцу HOUR (ставим в соответствие)\n",
    "    df_priv = pd.read_csv('HAS_PRIVELEGE.csv', index_col=0) # считываем инфо по привилегиям\n",
    "    df = pd.merge(df, df_priv, on = 'USER') #мерджим основную таблицу и привилегии\n",
    "    df['PRIVELEGE'] = df['PRIVELEGE'].replace(1, 0.85) #для удобства расчета меняем значения, где есть привилегия на 85%\n",
    "    df['PRIVELEGE'] = df['PRIVELEGE'].replace(0, 1) #для удобства расчета меняем значения, где нет привилегии на 100%\n",
    "    df['SUBTOTAL_BILL'] = df['KWT'] * df['PRICE'] * df['PRIVELEGE'] #считаем значения по каждой записи в месяце\n",
    "    return df\n",
    "\n",
    "pattern = r'\\w+\\d+\\.csv' #regex, выбираем только файлы, где инфа по месяцам\n",
    "for line in os.listdir(): #проходим по всем элементам в папке\n",
    "    if re.findall(pattern, line.strip()): #отбираем только с нужным названием\n",
    "        df = pd.read_csv(line) #загрузка файла\n",
    "        df = bill_count(df) #вызываем функцию расчета и передаем туда полученный из файла фрейм\n",
    "        df = df.groupby('USER')['SUBTOTAL_BILL'].sum() #группируем по айдишнику пользователя и считаем сумму\n",
    "        df = pd.DataFrame(df) #массив переводим в фрейм\n",
    "        #value = pd.concat(value, df)\n",
    "        value_massive.append(df) #добавляем в массив расчет по месяцу\n",
    "        i+=1\n",
    "\n",
    "        \n",
    "k=0 #вспомогательная переменная для цикла\n",
    "result = pd.concat(value_massive) #склеиваем\n",
    "print(result['SUBTOTAL_BILL'].sum())"
   ]
  },
  {
   "cell_type": "code",
   "execution_count": 22,
   "metadata": {},
   "outputs": [
    {
     "name": "stdout",
     "output_type": "stream",
     "text": [
      "                       KWT                 BILL\n",
      "value               138.87              2751.04\n",
      "id         49a573d9-f36f-1      49a573ee-f36f-1\n",
      "time   2013-01-19 00:00:00  2013-01-19 00:00:00\n"
     ]
    }
   ],
   "source": [
    "value_massive2 = []\n",
    "for line in os.listdir(): #проходим по всем элементам в папке\n",
    "    if re.findall(pattern, line.strip()): #отбираем только с нужным названием\n",
    "        df = pd.read_csv(line) #загрузка файла\n",
    "        df = bill_count(df) #вызываем функцию расчета и передаем туда полученный из файла фрейм\n",
    "        df['TIME'] = pd.to_datetime(df['TIME'], format ='%d/%m/%y  %H:%M') #переводит в datetime\n",
    "        value_massive2.append(df) #каждый месяц в массив\n",
    "        \n",
    "result2 =  pd.concat(value_massive2) #склеиваем \n",
    "\n",
    "max_bill = result2.groupby(['USER', pd.Grouper(key = 'TIME', freq = '1D')])['SUBTOTAL_BILL'].sum().rolling(15).sum() #группируем по 15 дней, считаем сумму чеков\n",
    "max_bill_value = max_bill.max() #находим самое большое значение\n",
    "max_bill_id = max_bill.idxmax()[0] #id\n",
    "max_bill_date = max_bill.idxmax()[1] #дата\n",
    "\n",
    "max_kwt = result2.groupby(['USER', pd.Grouper(key = 'TIME', freq = '1D')])['KWT'].sum().rolling(15).sum()\n",
    "max_kwt_value = max_kwt.max()\n",
    "max_kwt_id = max_kwt.idxmax()[0]\n",
    "max_kwt_date = max_kwt.idxmax()[1]\n",
    "\n",
    "result3 = pd.DataFrame({'KWT':[max_kwt_value, max_kwt_id, max_kwt_date], 'BILL':[max_bill_value, max_bill_id, max_bill_date]}, index = ['value','id','time' ])\n",
    "print(result3)"
   ]
  }
 ],
 "metadata": {
  "kernelspec": {
   "display_name": "Python 3",
   "language": "python",
   "name": "python3"
  },
  "language_info": {
   "codemirror_mode": {
    "name": "ipython",
    "version": 3
   },
   "file_extension": ".py",
   "mimetype": "text/x-python",
   "name": "python",
   "nbconvert_exporter": "python",
   "pygments_lexer": "ipython3",
   "version": "3.7.3"
  }
 },
 "nbformat": 4,
 "nbformat_minor": 2
}
